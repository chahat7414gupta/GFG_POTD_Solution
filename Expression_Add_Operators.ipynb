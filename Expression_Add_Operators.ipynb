{
  "nbformat": 4,
  "nbformat_minor": 0,
  "metadata": {
    "colab": {
      "provenance": [],
      "authorship_tag": "ABX9TyPu778oKDI8wDQoxZixwk1h",
      "include_colab_link": true
    },
    "kernelspec": {
      "name": "python3",
      "display_name": "Python 3"
    },
    "language_info": {
      "name": "python"
    }
  },
  "cells": [
    {
      "cell_type": "markdown",
      "metadata": {
        "id": "view-in-github",
        "colab_type": "text"
      },
      "source": [
        "<a href=\"https://colab.research.google.com/github/chahat7414gupta/GFG_POTD_Solution/blob/main/Expression_Add_Operators.ipynb\" target=\"_parent\"><img src=\"https://colab.research.google.com/assets/colab-badge.svg\" alt=\"Open In Colab\"/></a>"
      ]
    },
    {
      "cell_type": "code",
      "execution_count": 1,
      "metadata": {
        "colab": {
          "base_uri": "https://localhost:8080/",
          "height": 145
        },
        "id": "PTPgDm76SGEM",
        "outputId": "eba1dae1-2845-45ba-fbaf-a2bf0cb6b28f"
      },
      "outputs": [
        {
          "output_type": "execute_result",
          "data": {
            "text/plain": [
              "'\\nGiven a string S that contains only digits (0-9) and an integer target, return all possible strings to insert the binary operator \\' + \\', \\' - \\', or \\' * \\' between the digits of S so that the resultant expression evaluates to the target value.\\n\\nNote:\\n\\nOperands in the returned expressions should not contain leading zeros. For example, 2 + 03 is not allowed whereas 20 + 3 is fine. It is allowed to not insert any of the operators.\\n\\nIf no solution is found, return an empty string array.\\nExample 1:\\n\\nInput:\\nS = \"123\"\\ntarget = 6\\nOutput: { \"1*2*3\", \"1+2+3\"}\\nExplanation: Both \"1*2*3\" and \"1+2+3\" evaluate to 6.\\n\\nExample 2:\\n\\nInput:\\nS = \"3456237490\"\\ntarget = 9191\\nOutput: { } \\nExplanation: There are no expressions that can be created from \"3456237490\"  to evaluate to 9191.\\n\\nExample 3:\\n\\nInput:\\nS = \"12\"\\ntarget = 12\\nOutput: { \"12\"} \\nExplanation: S itself matches the target. No other strings are possible.\\nYour Task:\\nYou don\\'t need to read input or print anything. Your task is to complete the function addOperators() which takes string S and integer target as parameters and returns a list of strings that contains all valid possibilities.\\n\\nExpected Time Complexity: O(|S|*4|S|)\\nExpected Auxiliary Space: O(|s|*3|S|)\\n\\nConstraints:\\n1 ≤ |S| ≤ 10\\nS consists of only digits.\\n-231 ≤ target ≤ 231-1\\n\\n \\n'"
            ],
            "application/vnd.google.colaboratory.intrinsic+json": {
              "type": "string"
            }
          },
          "metadata": {},
          "execution_count": 1
        }
      ],
      "source": [
        "\"\"\"\n",
        "Given a string S that contains only digits (0-9) and an integer target, return all possible strings to insert the binary operator ' + ', ' - ', or ' * ' between the digits of S so that the resultant expression evaluates to the target value.\n",
        "\n",
        "Note:\n",
        "\n",
        "Operands in the returned expressions should not contain leading zeros. For example, 2 + 03 is not allowed whereas 20 + 3 is fine. It is allowed to not insert any of the operators.\n",
        "\n",
        "If no solution is found, return an empty string array.\n",
        "Example 1:\n",
        "\n",
        "Input:\n",
        "S = \"123\"\n",
        "target = 6\n",
        "Output: { \"1*2*3\", \"1+2+3\"}\n",
        "Explanation: Both \"1*2*3\" and \"1+2+3\" evaluate to 6.\n",
        "\n",
        "Example 2:\n",
        "\n",
        "Input:\n",
        "S = \"3456237490\"\n",
        "target = 9191\n",
        "Output: { } \n",
        "Explanation: There are no expressions that can be created from \"3456237490\"  to evaluate to 9191.\n",
        "\n",
        "Example 3:\n",
        "\n",
        "Input:\n",
        "S = \"12\"\n",
        "target = 12\n",
        "Output: { \"12\"} \n",
        "Explanation: S itself matches the target. No other strings are possible.\n",
        "Your Task:\n",
        "You don't need to read input or print anything. Your task is to complete the function addOperators() which takes string S and integer target as parameters and returns a list of strings that contains all valid possibilities.\n",
        "\n",
        "Expected Time Complexity: O(|S|*4|S|)\n",
        "Expected Auxiliary Space: O(|s|*3|S|)\n",
        "\n",
        "Constraints:\n",
        "1 ≤ |S| ≤ 10\n",
        "S consists of only digits.\n",
        "-231 ≤ target ≤ 231-1\n",
        "\n",
        " \n",
        "\"\"\""
      ]
    },
    {
      "cell_type": "code",
      "source": [
        "#User function Template for python3\n",
        "\n",
        "class Solution:\n",
        "    def addOperators(self, s, target):\n",
        "        # Code here\n",
        "        n = len(s)\n",
        "        ans = []\n",
        "        def dfs(i, path, result, prev):\n",
        "            if i == n:\n",
        "                if result == target:\n",
        "                    ans.append(path)\n",
        "                return\n",
        "\n",
        "            for j in range(i+1, n+1):\n",
        "                if j > i+1 and s[i] == '0': \n",
        "                    break  \n",
        "                num = int(s[i:j])\n",
        "                if i == 0:\n",
        "                    dfs(j, path + str(num), result + num, num)  \n",
        "                else:\n",
        "                    dfs(j, path + \"+\" + str(num), result + num, num)\n",
        "                    dfs(j, path + \"-\" + str(num), result - num, -num)\n",
        "                    dfs(j, path + \"*\" + str(num), result - prev + prev*num, prev*num)  \n",
        "\n",
        "        ans = []\n",
        "        dfs(0, \"\", 0, 0)\n",
        "        return ans\n"
      ],
      "metadata": {
        "id": "3_1ZOz52STGv"
      },
      "execution_count": null,
      "outputs": []
    }
  ]
}