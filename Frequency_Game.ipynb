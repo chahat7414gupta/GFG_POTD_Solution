{
  "nbformat": 4,
  "nbformat_minor": 0,
  "metadata": {
    "colab": {
      "provenance": [],
      "authorship_tag": "ABX9TyP7GBjtJxzGVm+cE++dgn6y",
      "include_colab_link": true
    },
    "kernelspec": {
      "name": "python3",
      "display_name": "Python 3"
    },
    "language_info": {
      "name": "python"
    }
  },
  "cells": [
    {
      "cell_type": "markdown",
      "metadata": {
        "id": "view-in-github",
        "colab_type": "text"
      },
      "source": [
        "<a href=\"https://colab.research.google.com/github/chahat7414gupta/GFG_POTD_Solution/blob/main/Frequency_Game.ipynb\" target=\"_parent\"><img src=\"https://colab.research.google.com/assets/colab-badge.svg\" alt=\"Open In Colab\"/></a>"
      ]
    },
    {
      "cell_type": "code",
      "execution_count": null,
      "metadata": {
        "id": "UYfzB5tC4468"
      },
      "outputs": [],
      "source": [
        "def LargButMinFreq(arr,n):\n",
        "    freq = {}\n",
        "    for num in arr:\n",
        "        if num in freq:\n",
        "            freq[num] += 1\n",
        "        else:\n",
        "            freq[num] = 1\n",
        "\n",
        "    min_freq = min(freq.values())\n",
        "    max_val = float('-inf')\n",
        "\n",
        "    for num, count in freq.items():\n",
        "        if count == min_freq and num > max_val:\n",
        "            max_val = num\n",
        "\n",
        "    return max_val\n",
        "    "
      ]
    }
  ]
}