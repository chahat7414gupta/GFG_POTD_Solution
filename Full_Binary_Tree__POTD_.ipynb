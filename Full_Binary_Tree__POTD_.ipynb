{
  "nbformat": 4,
  "nbformat_minor": 0,
  "metadata": {
    "colab": {
      "provenance": [],
      "authorship_tag": "ABX9TyOu14e4Dn/C6mnrhHQw+u1g",
      "include_colab_link": true
    },
    "kernelspec": {
      "name": "python3",
      "display_name": "Python 3"
    },
    "language_info": {
      "name": "python"
    }
  },
  "cells": [
    {
      "cell_type": "markdown",
      "metadata": {
        "id": "view-in-github",
        "colab_type": "text"
      },
      "source": [
        "<a href=\"https://colab.research.google.com/github/chahat7414gupta/GFG_POTD_Solution/blob/main/Full_Binary_Tree__POTD_.ipynb\" target=\"_parent\"><img src=\"https://colab.research.google.com/assets/colab-badge.svg\" alt=\"Open In Colab\"/></a>"
      ]
    },
    {
      "cell_type": "markdown",
      "source": [
        "# Construct a Full Binary Tree\n",
        "\n",
        "Given two arrays that represent Preorder traversals of a Full binary tree preOrder[] and its mirror tree preOrderMirror[], your task is to complete the function constructBinaryTree(), that constructs the full binary tree using these two Preorder traversals.\n",
        "\n",
        "Note: It is not possible to construct a general binary tree using these two traversal. But it is possible to create a full binary tree using the above traversals without any ambiguity.\n",
        "\n",
        "Example 1:\n",
        "\n",
        "Input :\n",
        "preOrder[] = {0,1,2}\n",
        "preOrderMirror[] = {0,2,1} \n",
        "\n",
        "Output :\n",
        "                0\n",
        "              /   \\\n",
        "             1     2\n",
        "Explanation :\n",
        "Tree in the output and it's mirror tree matches the preOrder and preOrderMirror.\n",
        "Example 2:\n",
        "\n",
        "Input :  \n",
        "preOrder[] = {1,2,4,5,3,6,7}\n",
        "preOrderMirror[] = {1,3,7,6,2,5,4}\n",
        "\n",
        "Output :          \n",
        "                 1\n",
        "               /    \\\n",
        "              2      3\n",
        "            /   \\   /  \\\n",
        "           4     5 6    7\n",
        "Explanation :\n",
        "Tree in the output and it's mirror tree matches the preOrder and preOrderMirror.\n",
        "Your Task:\n",
        "\n",
        "You don't need to read, input, or print anything. Your task is to complete the function constructBTree, The function takes three arguments as input, first the array that represent Preorder traversals of a Full binary tree preOrder[], second the array that represents the preorder traversal of its mirror tree preOrderMirror[] and last the size of both the array,and returns root of the full binary tree.\n",
        "\n",
        "Expected Time Complexity: O(N^2)\n",
        "Expected Auxiliary Space: O(N), where N indicates number of nodes.\n",
        "\n",
        "Constraints:\n",
        "1 <= Number of Nodes <= 103"
      ],
      "metadata": {
        "id": "mcLP52-6tqys"
      }
    },
    {
      "cell_type": "code",
      "execution_count": null,
      "metadata": {
        "id": "eXkfaQpOtV0R"
      },
      "outputs": [],
      "source": [
        "#User function Template for python3\n",
        "class Node:\n",
        "    def __init__(self,data,left=None,right=None):\n",
        "        self.data=data\n",
        "        self.left=left\n",
        "        self.right=right\n",
        "        \n",
        "class Solution:\n",
        "    def constructBinaryTree(self, pre, preMirror, size):\n",
        "        # code here\n",
        "        def find(pre,preMirror,dic_pre,dic_pre_mir,ps,pe,pms,pme):\n",
        "            root=Node(pre[ps])\n",
        "            if ps==pe:\n",
        "                return root\n",
        "            index=dic_pre_mir[pre[ps+1]]\n",
        "            left=(pme-index)+1\n",
        "            right=index-pms-1\n",
        "            if left:\n",
        "                root.left=find(pre,preMirror,dic_pre,dic_pre_mir,ps+1,ps+left,index,pme)\n",
        "            else:\n",
        "                root.left=None\n",
        "            if right:\n",
        "                root.right=find(pre,preMirror,dic_pre,dic_pre_mir,ps+left+1,pe,pms+1,index-1)\n",
        "            else:\n",
        "                root.right=None\n",
        "            return root\n",
        "        \n",
        "        dic_pre={}\n",
        "        dic_pre_mir={}\n",
        "        for i in range(size):\n",
        "            dic_pre[pre[i]]=i\n",
        "            dic_pre_mir[preMirror[i]]=i\n",
        "        \n",
        "        return find(pre,preMirror,dic_pre,dic_pre_mir,0,size-1,0,size-1)\n",
        "\n",
        "\n",
        "\n",
        "#{ \n",
        " # Driver Code Starts\n",
        "#Initial Template for Python 3\n",
        "\n",
        "if __name__ == '__main__':\n",
        "    \n",
        "    def printInorder(node):\n",
        "        if node == None:\n",
        "            return\n",
        "        printInorder(node.left)\n",
        "        print(node.data, end = \" \")\n",
        "        printInorder(node.right)\n",
        "        \n",
        "    test_cases = int(input())\n",
        "    for _ in range (test_cases):\n",
        "        N = int(input())\n",
        "        pre = list(map(int, input().split()))\n",
        "        preMirror = list(map(int, input().split()))\n",
        "        res = Solution().constructBinaryTree(pre, preMirror, N)\n",
        "        if printInorder(res) != None:\n",
        "            print(printInorder(res)[:len(printInorder(res))-2])\n",
        "        print()\n",
        "# } Driver Code Ends"
      ]
    }
  ]
}