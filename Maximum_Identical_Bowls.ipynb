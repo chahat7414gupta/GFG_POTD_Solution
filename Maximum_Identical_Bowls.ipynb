{
  "nbformat": 4,
  "nbformat_minor": 0,
  "metadata": {
    "colab": {
      "provenance": [],
      "authorship_tag": "ABX9TyMj1hgC1pRgW/gLYDUbPf4N",
      "include_colab_link": true
    },
    "kernelspec": {
      "name": "python3",
      "display_name": "Python 3"
    },
    "language_info": {
      "name": "python"
    }
  },
  "cells": [
    {
      "cell_type": "markdown",
      "metadata": {
        "id": "view-in-github",
        "colab_type": "text"
      },
      "source": [
        "<a href=\"https://colab.research.google.com/github/chahat7414gupta/GFG_POTD_Solution/blob/main/Maximum_Identical_Bowls.ipynb\" target=\"_parent\"><img src=\"https://colab.research.google.com/assets/colab-badge.svg\" alt=\"Open In Colab\"/></a>"
      ]
    },
    {
      "cell_type": "code",
      "execution_count": 3,
      "metadata": {
        "colab": {
          "base_uri": "https://localhost:8080/",
          "height": 145
        },
        "id": "OhefwSia3iRA",
        "outputId": "9f0f0aae-d366-46e7-9d9e-dc2be4f03c63"
      },
      "outputs": [
        {
          "output_type": "execute_result",
          "data": {
            "text/plain": [
              "\"###Maximum Identical Bowls\\nEasyAccuracy: 54.52%Submissions: 21K+Points: 2\\nFinding A Job Is Now Easier Than Today's Problem! Explore Job Fair 2023\\n\\nThere are N bowls containing cookies. In one operation, you can take one cookie from any of the non-empty bowls and put it into another bowl. If the bowl becomes empty you discard it. You can perform the above operation any number of times. You want to know the maximum number of bowls you can have with an identical number of cookies.\\n\\nNote: All the non-discarded bowls should contain the identical number of cookies.\\n\\nExample 1:\\n\\nInput:\\nN = 3\\narr[] = {3, 1, 5}\\nOutput: 3\\nExplanation: We can put 2 cookies from the 3rd bowl\\nand put them into the 2nd bowl.Now the array\\nbecomes {3, 3, 3}. Each bowl now contains 3 cookies.\\nExample 2:\\n\\nInput:\\nN = 4\\narr[] = {1, 2, 6, 5}\\nOutput: 2\\nExplanation: We can take 6 cookies from the 3rd bowl \\nand put them into 1st bowl, now the array becomes \\n{7, 2, 0, 5}. We discard the 3rd array as it becomes\\n empty. Hence, arr={7, 2, 5}. Now, we take 5 cookies \\nfrom 3rd bowl and put them into the 2nd bowl. Hence \\narr={7, 7, 0}. Discarding 3rd empty bowl, number of \\nbowls containing identical number of cookies i.e 7 is 2.\\nYour Task: \\nYou don't need to read input or print anything. Your task is to complete the function getMaximum() which takes the array arr[] and its size N as input parameters and returns the maximum number of bowls we can have with an identical number of cookies. \\n\\nExpected Time Complexity: O(N)\\nExpected Auxiliary Space: O(1)\\n\\nConstraints:\\n1 <= N <= 105\\n1 <= arr[i] <= 109\\nArray may contain duplicate elements.\""
            ],
            "application/vnd.google.colaboratory.intrinsic+json": {
              "type": "string"
            }
          },
          "metadata": {},
          "execution_count": 3
        }
      ],
      "source": [
        "\"\"\"###Maximum Identical Bowls\n",
        "EasyAccuracy: 54.52%Submissions: 21K+Points: 2\n",
        "Finding A Job Is Now Easier Than Today's Problem! Explore Job Fair 2023\n",
        "\n",
        "There are N bowls containing cookies. In one operation, you can take one cookie from any of the non-empty bowls and put it into another bowl. If the bowl becomes empty you discard it. You can perform the above operation any number of times. You want to know the maximum number of bowls you can have with an identical number of cookies.\n",
        "\n",
        "Note: All the non-discarded bowls should contain the identical number of cookies.\n",
        "\n",
        "Example 1:\n",
        "\n",
        "Input:\n",
        "N = 3\n",
        "arr[] = {3, 1, 5}\n",
        "Output: 3\n",
        "Explanation: We can put 2 cookies from the 3rd bowl\n",
        "and put them into the 2nd bowl.Now the array\n",
        "becomes {3, 3, 3}. Each bowl now contains 3 cookies.\n",
        "Example 2:\n",
        "\n",
        "Input:\n",
        "N = 4\n",
        "arr[] = {1, 2, 6, 5}\n",
        "Output: 2\n",
        "Explanation: We can take 6 cookies from the 3rd bowl \n",
        "and put them into 1st bowl, now the array becomes \n",
        "{7, 2, 0, 5}. We discard the 3rd array as it becomes\n",
        " empty. Hence, arr={7, 2, 5}. Now, we take 5 cookies \n",
        "from 3rd bowl and put them into the 2nd bowl. Hence \n",
        "arr={7, 7, 0}. Discarding 3rd empty bowl, number of \n",
        "bowls containing identical number of cookies i.e 7 is 2.\n",
        "Your Task: \n",
        "You don't need to read input or print anything. Your task is to complete the function getMaximum() which takes the array arr[] and its size N as input parameters and returns the maximum number of bowls we can have with an identical number of cookies. \n",
        "\n",
        "Expected Time Complexity: O(N)\n",
        "Expected Auxiliary Space: O(1)\n",
        "\n",
        "Constraints:\n",
        "1 <= N <= 105\n",
        "1 <= arr[i] <= 109\n",
        "Array may contain duplicate elements.\"\"\""
      ]
    },
    {
      "cell_type": "code",
      "source": [
        "from typing import List\n",
        "class Solution:\n",
        "    def getMaximum(self, N : int, arr : List[int]) -> int:\n",
        "        # code here\n",
        "        tot=sum(arr)\n",
        "        while tot%N!=0:\n",
        "            N=N-1\n",
        "        return N"
      ],
      "metadata": {
        "id": "YhbQL06H3kNM"
      },
      "execution_count": 2,
      "outputs": []
    },
    {
      "cell_type": "code",
      "source": [],
      "metadata": {
        "id": "L7OFmgUc3yGL"
      },
      "execution_count": null,
      "outputs": []
    }
  ]
}