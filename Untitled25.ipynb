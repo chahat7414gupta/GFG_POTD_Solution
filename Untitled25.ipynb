{
  "nbformat": 4,
  "nbformat_minor": 0,
  "metadata": {
    "colab": {
      "provenance": [],
      "authorship_tag": "ABX9TyNSxsyzGi2qp0xHs6ay9L39",
      "include_colab_link": true
    },
    "kernelspec": {
      "name": "python3",
      "display_name": "Python 3"
    },
    "language_info": {
      "name": "python"
    }
  },
  "cells": [
    {
      "cell_type": "markdown",
      "metadata": {
        "id": "view-in-github",
        "colab_type": "text"
      },
      "source": [
        "<a href=\"https://colab.research.google.com/github/chahat7414gupta/GFG_POTD_Solution/blob/main/Untitled25.ipynb\" target=\"_parent\"><img src=\"https://colab.research.google.com/assets/colab-badge.svg\" alt=\"Open In Colab\"/></a>"
      ]
    },
    {
      "cell_type": "code",
      "execution_count": null,
      "metadata": {
        "id": "Q3ftnHrglW3H"
      },
      "outputs": [],
      "source": [
        "\"\"\"\n",
        "Tree Transformation\n",
        "\n",
        "You are given a tree containing N nodes in the form of an array P where Pi represents the parent of the i-th node and P0 = -1 as the tree is rooted at node 0. In one move, you can merge any two adjacent nodes. Calculate the minimum number of moves required to turn the tree into a star tree.\n",
        "\n",
        "-> Merging adjacent nodes means deleting the edge between them and considering both the nodes as a single one.\n",
        "-> A Star tree is a tree with a center node, and all other nodes are connected to the center node only.\n",
        "\n",
        "Example 1:\n",
        "\n",
        "Input:\n",
        "N = 5\n",
        "p[] = {-1, 0, 0, 1, 1}\n",
        "Output:\n",
        "1\n",
        "Explanation: \n",
        "Tree looks like:\n",
        "            \n",
        "Merge the edge 0 - 2 in one operation\n",
        "\n",
        "Our Tree will look like:\n",
        "            \n",
        "Example 2:\n",
        "\n",
        "Input: N = 8\n",
        "p[] = {-1 0 0 0 0 2 2 5}\n",
        "Output:\n",
        "2\n",
        "Explanation:\n",
        "Tree looks like:\n",
        "\n",
        "        \n",
        "\n",
        "Merge node 5 to 2, tree will look like\n",
        "\n",
        "          \n",
        "\n",
        "and then 2 to 0, finally the tree will be:\n",
        "\n",
        "             \n",
        "\n",
        "thus tree formed will be a star tree.\n",
        " \n",
        "Your Task:\n",
        "You don't need to read, input, or print anything. Your task is to complete the function solve( ), which takes integer N, and an array p[ ] as input parameters and returns the minimum number of moves required to turn the tree into a star tree.\n",
        "\n",
        "Expected Time Complexity: O(N)\n",
        "Expected Auxiliary Space: O(N)\n",
        "\n",
        "Constraints:\n",
        "1 ≤ N ≤ 105\n",
        "0 ≤ p[i] < N\n",
        "p[0] = -1, 0 is the root node.\n",
        "\"\"\"\n",
        "from typing import List\n",
        "\n",
        "\n",
        "class Solution:\n",
        "    def solve(self, N : int, p : List[int]) -> int:\n",
        "        cnt=0\n",
        "\n",
        "        dict={}\n",
        "\n",
        "        for i in p:\n",
        "\n",
        "            if i== (-1) or i ==0:\n",
        "\n",
        "                continue\n",
        "\n",
        "            else:\n",
        "\n",
        "                if i not in dict:\n",
        "\n",
        "                    dict[i]=1\n",
        "\n",
        "                    cnt+=1\n",
        "\n",
        "                dict[i]+=1\n",
        "\n",
        "        return cnt"
      ]
    }
  ]
}